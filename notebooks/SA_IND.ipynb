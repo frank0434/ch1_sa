{
 "cells": [
  {
   "cell_type": "code",
   "execution_count": null,
   "metadata": {},
   "outputs": [],
   "source": [
    "import agera5tools\n",
    "from agera5tools.wdp import AgERA5WeatherDataProvider\n"
   ]
  }
 ],
 "metadata": {
  "kernelspec": {
   "display_name": "py3_pcse",
   "language": "python",
   "name": "python3"
  },
  "language_info": {
   "name": "python",
   "version": "3.8.15"
  },
  "orig_nbformat": 4
 },
 "nbformat": 4,
 "nbformat_minor": 2
}
