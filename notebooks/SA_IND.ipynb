{
 "cells": [
  {
   "cell_type": "code",
   "execution_count": null,
   "metadata": {},
   "outputs": [],
   "source": [
    "from agera5tools.wdp import AgERA5WeatherDataProvider\n",
    "import pickle"
   ]
  },
  {
   "cell_type": "code",
   "execution_count": null,
   "metadata": {},
   "outputs": [],
   "source": [
    "# # Import weather station coordinates \n",
    "# WA_OR = pd.read_csv('../data/RWS_wa_or_coord.csv')\n",
    "# WA_OR is where the value below from \n",
    "\n",
    "# wdp = AgERA5WeatherDataProvider(longitude=-119.58, latitude=46.58)\n",
    "# the location coornidates are the experimental site\n",
    "## run once and save to pkl then load the pkl afterwards\n",
    "# wdp = AgERA5WeatherDataProvider(longitude=73.13, latitude=23.84)\n",
    "# with open('../intermediate_data/wdp_ind.pickle', 'wb') as f:\n",
    "#     # Pickle the 'data' dictionary using the highest protocol available.\n",
    "#     pickle.dump(wdp, f, pickle.HIGHEST_PROTOCOL)"
   ]
  },
  {
   "cell_type": "code",
   "execution_count": null,
   "metadata": {},
   "outputs": [],
   "source": [
    "with open('../intermediate_data/wdp_ind.pickle', 'rb') as f:\n",
    "    # The protocol version used is detected automatically, so we do not\n",
    "    # have to specify it.\n",
    "    wdp = pickle.load(f)"
   ]
  },
  {
   "cell_type": "code",
   "execution_count": null,
   "metadata": {},
   "outputs": [],
   "source": [
    "%matplotlib inline\n",
    "import os, sys\n",
    "data_dir = os.path.join(os.getcwd(), \"data\")\n",
    "from itertools import product\n",
    "import yaml\n",
    "import pandas as pd\n",
    "import pcse\n",
    "from pcse.models import Wofost72_WLP_FD, Wofost72_PP\n",
    "from pcse.base import ParameterProvider\n",
    "from pcse.exceptions import WeatherDataProviderError\n",
    "import matplotlib.pyplot as plt\n",
    "\n",
    "\n",
    "print(\"This notebook was built with:\")\n",
    "print(\"python version: %s \" % sys.version)\n",
    "print(\"PCSE version: %s\" %  pcse.__version__)\n",
    "\n",
    "# setting font and size \n",
    "font = {'family' : 'normal',\n",
    "        'weight' : 'bold',\n",
    "        'size'   : 16}\n",
    "# change font\n",
    "plt.rc('font', **font)"
   ]
  },
  {
   "cell_type": "code",
   "execution_count": null,
   "metadata": {},
   "outputs": [],
   "source": [
    "# load two data import functions from the pcse.fileinput class\n",
    "from pcse.fileinput import YAMLCropDataProvider, CABOFileReader\n",
    "# load the available crop list  \n",
    "cropd = YAMLCropDataProvider(fpath='../data',\n",
    "                              force_reload=True)  \n",
    "# load the soil information\n",
    "soild = CABOFileReader('../data/ec3 sandyloam.soil')\n",
    "# load one data import function from the pcse.util class\n",
    "from pcse.util import WOFOST72SiteDataProvider\n",
    "# define the site initial condiations \n",
    "# WAV is the initial soil water content = 0; CO2 is the level of CO2 in the atmosphere = 360 ppm\n",
    "sited = WOFOST72SiteDataProvider(WAV=10, CO2=360)\n",
    "print(sited)\n",
    "# help(WOFOST72SiteDataProvider)\n"
   ]
  },
  {
   "cell_type": "code",
   "execution_count": null,
   "metadata": {},
   "outputs": [],
   "source": [
    "# Define global variables \n",
    "StartDate = [str(i) + '-11-01' for i in range(2013, 2021)] \n",
    "EndDate = [str(i+1) + '-02-28' for i in range(2013, 2022)] \n",
    "# Loop over crops, soils and years\n",
    "agropotato = \"\"\"\n",
    "- {StartDate}:\n",
    "    CropCalendar:\n",
    "        crop_name: potato\n",
    "        variety_name: {Cultivar}\n",
    "        crop_start_date: {StartDate}\n",
    "        crop_start_type: sowing\n",
    "        crop_end_date: {EndDate}\n",
    "        crop_end_type: maturity\n",
    "        max_duration: 300\n",
    "    TimedEvents: null\n",
    "    StateEvents: null\n",
    "\"\"\"\n",
    "cultivars = [\n",
    "    \"Fontane\", \n",
    "    \"Markies\",\n",
    "    \"Premiere\",\n",
    "    \"Festien\", \n",
    "    \"Innovator\"]"
   ]
  },
  {
   "cell_type": "code",
   "execution_count": null,
   "metadata": {},
   "outputs": [],
   "source": [
    "# run simulations \n",
    "\n",
    "res = []\n",
    "# for i \n",
    "for i, inputs in enumerate(zip(StartDate, EndDate)):\n",
    "    # print(i)\n",
    "    # print(inputs)\n",
    "    std, etd = inputs\n",
    "    for c in cultivars:\n",
    "        run_id = \"{StartDate}_{EndDate}\".format(StartDate=std, EndDate = etd)\n",
    "        # print(run_id)\n",
    "        agromanagement = yaml.safe_load(agropotato.format(StartDate=std, EndDate = etd, Cultivar = c))\n",
    "        cropd.set_active_crop('potato', c)\n",
    "        parameters = ParameterProvider(sitedata=sited, soildata=soild, cropdata=cropd)\n",
    "        # increase the leave span\n",
    "        for span in [35, 40, 45]:\n",
    "            parameters.set_override(\"SPAN\", span)\n",
    "            wofost = Wofost72_PP(parameters, wdp, agromanagement)\n",
    "            wofost.run_till_terminate()\n",
    "            output = wofost.get_output()\n",
    "            df = pd.DataFrame(output)\n",
    "            df['day'] = pd.to_datetime(df['day'])\n",
    "            df.set_index(\"day\", inplace = True)\n",
    "            df['Run_id'] = run_id\n",
    "            df['Cultivar'] = c\n",
    "            df['SPAN'] = span\n",
    "             # append each potential yield simulation results for each cultivar\n",
    "            res.append(df)\n",
    "            print('Cultivar' + c + run_id  + 'SPAN ' + str(span))\n"
   ]
  },
  {
   "cell_type": "code",
   "execution_count": null,
   "metadata": {},
   "outputs": [],
   "source": [
    "df_res = pd.concat(res)\n",
    "df_res.loc[df_res['LAI'] < 0.1, [\"DVS\", \"LAI\", \"TAGP\", \"TWSO\"]]  = None"
   ]
  },
  {
   "cell_type": "code",
   "execution_count": null,
   "metadata": {},
   "outputs": [],
   "source": [
    "df_res"
   ]
  },
  {
   "cell_type": "code",
   "execution_count": null,
   "metadata": {},
   "outputs": [],
   "source": [
    "span_35 = df_res[df_res['SPAN'] == 35]\n",
    "span_40 = df_res[df_res['SPAN'] == 40]\n",
    "span_45 = df_res[df_res['SPAN'] == 45]"
   ]
  },
  {
   "cell_type": "code",
   "execution_count": null,
   "metadata": {},
   "outputs": [],
   "source": [
    "df_res = pd.concat(res)\n",
    "colors = ['k','r','g','b', 'm']\n",
    "fig, axes = plt.subplots(nrows=2, ncols=2, figsize=(12,10))\n",
    "for c, cultivar in zip(colors, cultivars):\n",
    "    for var, axe in zip([\"DVS\", \"TAGP\", \"LAI\", \"TWSO\",\"SM\"], axes.flatten()):\n",
    "        span_35[span_35['Cultivar']==cultivar][var].plot(ax=axe, color=c, label = cultivar)\n",
    "        # plt.scatter(actual_yield['HarvestDate'].iloc[0:3], actual_yield['Yield_t_ha'][0:3]*1000*0.2, color = 'r')\n",
    "        axe.set_title(var)  \n",
    "# Modify the legend position - plt.legend will put legends at the last plot, \n",
    "# fig.legend contains all duplicated legend names for each simulation set \n",
    "# axes is the good one \n",
    "axes[0][0].legend( loc='upper left')\n",
    "fig.autofmt_xdate()\n",
    "plt.suptitle(\"span_35\")\n",
    "fig.savefig(\"playingSPAN_35_IND.png\")\n"
   ]
  },
  {
   "cell_type": "code",
   "execution_count": null,
   "metadata": {},
   "outputs": [],
   "source": [
    "colors = ['k','r','g','b', 'm']\n",
    "fig, axes = plt.subplots(nrows=2, ncols=2, figsize=(12,10))\n",
    "for c, cultivar in zip(colors, cultivars):\n",
    "    for var, axe in zip([\"DVS\", \"TAGP\", \"LAI\", \"TWSO\",\"SM\"], axes.flatten()):\n",
    "        span_40[span_40['Cultivar']==cultivar][var].plot(ax=axe, color=c, label = cultivar)\n",
    "        # plt.scatter(actual_yield['HarvestDate'].iloc[0:3], actual_yield['Yield_t_ha'][0:3]*1000*0.2, color = 'r')\n",
    "        axe.set_title(var)  \n",
    "# Modify the legend position - plt.legend will put legends at the last plot, \n",
    "# fig.legend contains all duplicated legend names for each simulation set \n",
    "# axes is the good one \n",
    "axes[0][0].legend( loc='upper left')\n",
    "fig.autofmt_xdate()\n",
    "plt.suptitle(\"span_40\")\n",
    "fig.savefig(\"playingSPAN_40_IND.png\")\n"
   ]
  },
  {
   "cell_type": "code",
   "execution_count": null,
   "metadata": {},
   "outputs": [],
   "source": [
    "colors = ['k','r','g','b', 'm']\n",
    "fig, axes = plt.subplots(nrows=2, ncols=2, figsize=(12,10))\n",
    "for c, cultivar in zip(colors, cultivars):\n",
    "    for var, axe in zip([\"DVS\", \"TAGP\", \"LAI\", \"TWSO\",\"SM\"], axes.flatten()):\n",
    "        span_45[span_45['Cultivar']==cultivar][var].plot(ax=axe, color=c, label = cultivar)\n",
    "        # plt.scatter(actual_yield['HarvestDate'].iloc[0:3], actual_yield['Yield_t_ha'][0:3]*1000*0.2, color = 'r')\n",
    "        axe.set_title(var)  \n",
    "# Modify the legend position - plt.legend will put legends at the last plot, \n",
    "# fig.legend contains all duplicated legend names for each simulation set \n",
    "# axes is the good one \n",
    "axes[0][0].legend( loc='upper left')\n",
    "fig.autofmt_xdate()\n",
    "plt.suptitle(\"span_45\")\n",
    "fig.savefig(\"playingSPAN_45_IND.png\")\n"
   ]
  },
  {
   "cell_type": "code",
   "execution_count": null,
   "metadata": {},
   "outputs": [],
   "source": [
    "# effect size \n",
    "df_fontane = df_res[df_res['Cultivar'] == 'Fontane'].loc[:, ['LAI','SPAN']]\n",
    "df_fontane_wide = df_fontane.pivot(columns = 'SPAN', values = \"LAI\")"
   ]
  },
  {
   "cell_type": "code",
   "execution_count": null,
   "metadata": {},
   "outputs": [],
   "source": [
    "df_fontane_wide['changes_10'] = (df_fontane_wide[45] - df_fontane_wide[35] )/10\n",
    "df_fontane_wide['changes_5'] = (df_fontane_wide[40] - df_fontane_wide[35] )/5"
   ]
  },
  {
   "cell_type": "code",
   "execution_count": null,
   "metadata": {},
   "outputs": [],
   "source": [
    "df_fontane_wide.loc[:,['changes_10','changes_5']].plot()\n"
   ]
  },
  {
   "cell_type": "markdown",
   "metadata": {},
   "source": [
    "# add a second parameter TBASE\n"
   ]
  },
  {
   "cell_type": "code",
   "execution_count": null,
   "metadata": {},
   "outputs": [],
   "source": [
    "# Need some of the previous chunks to run this cell \n",
    "\n",
    "res_2paras = []\n",
    "# for i \n",
    "for i, inputs in enumerate(zip(StartDate, EndDate)):\n",
    "    # print(i)\n",
    "    # print(inputs)\n",
    "    std, etd = inputs\n",
    "    for c in cultivars:\n",
    "        run_id = \"{StartDate}_{EndDate}\".format(StartDate=std, EndDate = etd)\n",
    "        # print(run_id)\n",
    "        agromanagement = yaml.safe_load(agropotato.format(StartDate=std, EndDate = etd, Cultivar = c))\n",
    "        cropd.set_active_crop('potato', c)\n",
    "        parameters = ParameterProvider(sitedata=sited, soildata=soild, cropdata=cropd)\n",
    "        # increase the leave span\n",
    "        for tb in [3, 4, 5]:\n",
    "            parameters.set_override(\"TBASE\", tb)\n",
    "            wofost = Wofost72_PP(parameters, wdp, agromanagement)\n",
    "            wofost.run_till_terminate()\n",
    "            output = wofost.get_output()\n",
    "            df = pd.DataFrame(output)\n",
    "            df['day'] = pd.to_datetime(df['day'])\n",
    "            df.set_index(\"day\", inplace = True)\n",
    "            df['Run_id'] = run_id\n",
    "            df['Cultivar'] = c\n",
    "            df['TBASE'] = tb\n",
    "             # append each potential yield simulation results for each cultivar\n",
    "            res_2paras.append(df)\n",
    "            print('Cultivar' + c + run_id  + 'TBASE ' + str(tb))\n"
   ]
  },
  {
   "cell_type": "code",
   "execution_count": null,
   "metadata": {},
   "outputs": [],
   "source": [
    "df_res2 = pd.concat(res_2paras)\n",
    "df_res2[df_res2['TWSO'] < 0.1 ] = None"
   ]
  },
  {
   "cell_type": "code",
   "execution_count": null,
   "metadata": {},
   "outputs": [],
   "source": [
    "# effect size \n",
    "df_fontane2 = df_res2[df_res2['Cultivar'] == 'Fontane'].loc[:, ['LAI','TBASE']]\n",
    "df_fontane_wide2 = df_fontane2.pivot(columns = 'TBASE', values = \"LAI\")\n",
    "# df_fontane_wide2"
   ]
  },
  {
   "cell_type": "code",
   "execution_count": null,
   "metadata": {},
   "outputs": [],
   "source": [
    "df_fontane_wide2['TBchanges_1'] = df_fontane_wide2[4] - df_fontane_wide2[3] \n",
    "df_fontane_wide2['TBchanges_2'] = (df_fontane_wide2[5] - df_fontane_wide2[3] ) /2"
   ]
  },
  {
   "cell_type": "code",
   "execution_count": null,
   "metadata": {},
   "outputs": [],
   "source": [
    "df_fontane_wide2.rename_axis(None, axis=1, inplace = True)\n",
    "df_fontane_wide.rename_axis(None, axis=1, inplace = True)"
   ]
  },
  {
   "cell_type": "code",
   "execution_count": null,
   "metadata": {},
   "outputs": [],
   "source": [
    "\n",
    "fig, ax = plt.subplots()\n",
    "# ax2 = ax.twinx()\n",
    "\n",
    "df_fontane_wide2.iloc[0:200, :].plot( y=['TBchanges_2'], ax = ax)\n",
    "df_fontane_wide.iloc[0:200, :].plot( y=['changes_10'], ls = '--', ax = ax)\n",
    "fig.autofmt_xdate()\n",
    "plt.title('LAI Sensitivity to TBASE and SPAN changes over time for 1 season')\n",
    "plt.show()"
   ]
  },
  {
   "cell_type": "markdown",
   "metadata": {},
   "source": [
    "quick thoughts:   \n",
    "1. both base temperature and span have effects on LAI   \n",
    "2. LAI is not sensitive to both parameters until late in the season under indian condtions. \n",
    "3. TBASE came in earlier than SPAN but SPAN wears off later   \n",
    "4. TBASE seems more important than the SPAN \n",
    "5. WHY THERE ARE UP AND DOWNS IN THE TBASE changes? \n",
    "\n"
   ]
  },
  {
   "cell_type": "code",
   "execution_count": null,
   "metadata": {},
   "outputs": [],
   "source": [
    "# what about yield \n",
    "TBASE = df_res2[(df_res2['Cultivar'] == 'Fontane')&(df_res2['TWSO'] != 0 )].loc[:, ['TWSO','TBASE']]\n",
    "SPAN = df_res[(df_res['Cultivar'] == 'Fontane')&(df_res['TWSO'] != 0 )].loc[:, ['TWSO','SPAN']]"
   ]
  },
  {
   "cell_type": "code",
   "execution_count": null,
   "metadata": {},
   "outputs": [],
   "source": [
    "TBASE['year'], TBASE['m'], TBASE['d'] = TBASE.index.year, TBASE.index.month, TBASE.index.day\n",
    "TB_yield = TBASE[(TBASE['m'] == 2) & (TBASE['d'] == 28)]\n",
    "SPAN['year'], SPAN['m'], SPAN['d'] = SPAN.index.year, SPAN.index.month, SPAN.index.day\n",
    "SPAN_yield = SPAN[(SPAN['m'] == 2) & (SPAN['d'] == 28)]\n"
   ]
  },
  {
   "cell_type": "code",
   "execution_count": null,
   "metadata": {},
   "outputs": [],
   "source": [
    "# Get unique category values\n",
    "categories = TB_yield['TBASE'].unique()\n",
    "\n",
    "# Create a figure and axis\n",
    "fig, ax = plt.subplots()\n",
    "\n",
    "# Plot each category with a different color\n",
    "for category in categories:\n",
    "    category_data = TB_yield[TB_yield['TBASE'] == category]\n",
    "    ax.scatter(category_data.index, category_data['TWSO'], label=category)\n",
    "\n",
    "# Add labels and legend\n",
    "plt.xlabel('Date')\n",
    "plt.ylabel('TBASE')\n",
    "plt.legend(title='TBASE')\n",
    "\n",
    "# Show the plot\n",
    "plt.show()"
   ]
  },
  {
   "cell_type": "code",
   "execution_count": null,
   "metadata": {},
   "outputs": [],
   "source": [
    "# Get unique category values\n",
    "categories = SPAN_yield['SPAN'].unique()\n",
    "\n",
    "# Create a figure and axis\n",
    "fig, ax = plt.subplots()\n",
    "\n",
    "# Plot each category with a different color\n",
    "for category in categories:\n",
    "    category_data = SPAN_yield[SPAN_yield['SPAN'] == category]\n",
    "    ax.scatter(category_data.index, category_data['TWSO'], label=category)\n",
    "\n",
    "# Add labels and legend\n",
    "plt.xlabel('Date')\n",
    "plt.ylabel('Dry matter content kg ha-1')\n",
    "plt.legend(title='SPAN')\n",
    "\n",
    "# Show the plot\n",
    "plt.show()"
   ]
  },
  {
   "cell_type": "markdown",
   "metadata": {},
   "source": [
    "# BUT WHICH ONE IS MORE INFLUENTIAL?  "
   ]
  },
  {
   "cell_type": "code",
   "execution_count": null,
   "metadata": {},
   "outputs": [],
   "source": [
    "TB_yield.reset_index().merge(SPAN_yield.reset_index(),left_on=['day', 'year', 'm','d'], right_on=['day', 'year', 'm','d'])\n",
    "# TB_yield\n",
    "merged = TB_yield.pivot(columns = 'TBASE', values = \"TWSO\").merge(SPAN_yield.pivot(columns = 'SPAN', values = \"TWSO\"), left_index=True, right_index=True)\n",
    "merged['TB_changes2'] = (merged[5.0] -merged[3.0])/2\n",
    "merged['SPAN_changes10'] = (merged[45.0] -merged[35.0])/10\n",
    "merged\n",
    " "
   ]
  },
  {
   "cell_type": "code",
   "execution_count": null,
   "metadata": {},
   "outputs": [],
   "source": [
    "# Create a figure and axis\n",
    "fig, ax = plt.subplots()\n",
    "\n",
    "# Plot each category with a different color\n",
    "for col in merged.columns[6:8]:\n",
    "    ax.scatter(merged.index, merged[col], label=col)\n",
    "\n",
    "# Add labels and legend\n",
    "plt.xlabel('Date')\n",
    "plt.ylabel('Dry matter content kg ha-1')\n",
    "plt.legend(title='changes per unit')\n",
    "plt.title('absolute difference of per unit of parameter value change over time')\n",
    "# Show the plot\n",
    "plt.show()\n",
    "merged.columns"
   ]
  },
  {
   "cell_type": "code",
   "execution_count": null,
   "metadata": {},
   "outputs": [],
   "source": [
    "colors = ['k','r','g','b', 'm']\n",
    "fig, axes = plt.subplots(nrows=2, ncols=3, figsize=(12,20))\n",
    "for c, cultivar in zip(colors, cultivars):\n",
    "    for var in [\"DVS\", \"TAGP\", \"LAI\", \"TWSO\"]:\n",
    "        for tb, axe  in zip(range(3,6), axes.flatten()):\n",
    "            df_res2[(df_res2['Cultivar']==cultivar)&(df_res2['TBASE']==tb)][var].plot(ax=axe, color=c, label = cultivar)\n",
    "            # plt.scatter(actual_yield['HarvestDate'].iloc[0:3], actual_yield['Yield_t_ha'][0:3]*1000*0.2, color = 'r')\n",
    "            axe.set_title(var + str(tb))  \n",
    "# Modify the legend position - plt.legend will put legends at the last plot, \n",
    "# fig.legend contains all duplicated legend names for each simulation set \n",
    "# axes is the good one \n",
    "axes[0][0].legend( loc='upper left')\n",
    "fig.autofmt_xdate()\n",
    "plt.suptitle(\"TBASE\")\n",
    "fig.savefig(\"playinyTBASE_3_IND.png\")"
   ]
  },
  {
   "cell_type": "code",
   "execution_count": null,
   "metadata": {},
   "outputs": [],
   "source": [
    "# what happened at year 2019 and 2022\n",
    "weather =pd.DataFrame(  wdp.export())\n",
    "weather.DAY = pd.to_datetime(weather.DAY)"
   ]
  },
  {
   "cell_type": "code",
   "execution_count": null,
   "metadata": {},
   "outputs": [],
   "source": [
    "weather.set_index('DAY', inplace = True)"
   ]
  },
  {
   "cell_type": "code",
   "execution_count": null,
   "metadata": {},
   "outputs": [],
   "source": [
    "weather['TMAX'].plot()\n",
    "weather['TMIN'].plot()\n"
   ]
  },
  {
   "cell_type": "markdown",
   "metadata": {},
   "source": [
    "### Next step \n",
    "1. choose a cultivar - which one does not matter I think since we are not after the accuracy but the variation over the seasons. \n",
    "2. demonstrate the relationship between parameter values and output? LAI or twso? "
   ]
  },
  {
   "cell_type": "markdown",
   "metadata": {},
   "source": [
    "$$effect size = \\delta{Y}/\\delta{P}$$"
   ]
  }
 ],
 "metadata": {
  "kernelspec": {
   "display_name": "py3_pcse",
   "language": "python",
   "name": "python3"
  },
  "language_info": {
   "codemirror_mode": {
    "name": "ipython",
    "version": 3
   },
   "file_extension": ".py",
   "mimetype": "text/x-python",
   "name": "python",
   "nbconvert_exporter": "python",
   "pygments_lexer": "ipython3",
   "version": "3.8.15"
  },
  "orig_nbformat": 4
 },
 "nbformat": 4,
 "nbformat_minor": 2
}
