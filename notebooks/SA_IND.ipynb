{
 "cells": [
  {
   "cell_type": "code",
   "execution_count": 1,
   "metadata": {},
   "outputs": [
    {
     "name": "stdout",
     "output_type": "stream",
     "text": [
      "using config from C:\\Users\\liu283\\GitRepos\\DataGathering\\Climate\\agera5tools.yaml\n"
     ]
    }
   ],
   "source": [
    "import agera5tools\n",
    "from agera5tools.wdp import AgERA5WeatherDataProvider\n"
   ]
  },
  {
   "cell_type": "code",
   "execution_count": 2,
   "metadata": {},
   "outputs": [],
   "source": [
    "# # Import weather station coordinates \n",
    "# WA_OR = pd.read_csv('../data/RWS_wa_or_coord.csv')\n",
    "# WA_OR is where the value below from \n",
    "\n",
    "# wdp = AgERA5WeatherDataProvider(longitude=-119.58, latitude=46.58)\n",
    "# the location coornidates are the experimental site\n",
    "wdp = AgERA5WeatherDataProvider(longitude=73.13, latitude=23.84)"
   ]
  },
  {
   "cell_type": "code",
   "execution_count": 3,
   "metadata": {},
   "outputs": [
    {
     "name": "stdout",
     "output_type": "stream",
     "text": [
      "This notebook was built with:\n",
      "python version: 3.8.15 (default, Nov 24 2022, 14:38:14) [MSC v.1916 64 bit (AMD64)] \n",
      "PCSE version: 5.5.4\n"
     ]
    }
   ],
   "source": [
    "%matplotlib inline\n",
    "import os, sys\n",
    "data_dir = os.path.join(os.getcwd(), \"data\")\n",
    "from itertools import product\n",
    "import yaml\n",
    "import pandas as pd\n",
    "import pcse\n",
    "from pcse.models import Wofost72_WLP_FD, Wofost72_PP\n",
    "from pcse.base import ParameterProvider\n",
    "from pcse.exceptions import WeatherDataProviderError\n",
    "import matplotlib.pyplot as plt\n",
    "\n",
    "\n",
    "print(\"This notebook was built with:\")\n",
    "print(\"python version: %s \" % sys.version)\n",
    "print(\"PCSE version: %s\" %  pcse.__version__)\n",
    "\n",
    "# setting font and size \n",
    "font = {'family' : 'normal',\n",
    "        'weight' : 'bold',\n",
    "        'size'   : 16}\n",
    "# change font\n",
    "plt.rc('font', **font)"
   ]
  },
  {
   "cell_type": "code",
   "execution_count": 9,
   "metadata": {},
   "outputs": [
    {
     "name": "stdout",
     "output_type": "stream",
     "text": [
      "Unknown parameter values provided to WOFOSTSiteDataProvider: {'CO2': 360}\n",
      "{'IFUNRN': 0, 'NOTINF': 0, 'SSI': 0.0, 'SSMAX': 0.0, 'WAV': 10.0, 'SMLIM': 0.4}\n"
     ]
    }
   ],
   "source": [
    "# load two data import functions from the pcse.fileinput class\n",
    "from pcse.fileinput import YAMLCropDataProvider, CABOFileReader\n",
    "# load the available crop list  \n",
    "cropd = YAMLCropDataProvider(fpath=r'../data/', force_reload=True)  \n",
    "# load the soil information\n",
    "soild = CABOFileReader('../data/ec3 sandyloam.soil')\n",
    "# load one data import function from the pcse.util class\n",
    "from pcse.util import WOFOST72SiteDataProvider\n",
    "# define the site initial condiations \n",
    "# WAV is the initial soil water content = 0; CO2 is the level of CO2 in the atmosphere = 360 ppm\n",
    "sited = WOFOST72SiteDataProvider(WAV=10, CO2=360)\n",
    "print(sited)\n",
    "# help(WOFOST72SiteDataProvider)\n"
   ]
  },
  {
   "cell_type": "code",
   "execution_count": 10,
   "metadata": {},
   "outputs": [
    {
     "data": {
      "text/plain": [
       "{}"
      ]
     },
     "execution_count": 10,
     "metadata": {},
     "output_type": "execute_result"
    }
   ],
   "source": [
    "cropd"
   ]
  },
  {
   "cell_type": "code",
   "execution_count": 5,
   "metadata": {},
   "outputs": [],
   "source": [
    "parameters = ParameterProvider(sitedata=sited, soildata=soild, cropdata=cropd)\n",
    "# wofost = Wofost72_PP(parameters, wdp, agromanagement)"
   ]
  },
  {
   "cell_type": "code",
   "execution_count": 6,
   "metadata": {},
   "outputs": [],
   "source": [
    "StartDate = [str(i) + '-04-20' for i in range(2013, 2022)] \n",
    "EndDate = [str(i) + '-09-19' for i in range(2013, 2022)] "
   ]
  },
  {
   "cell_type": "code",
   "execution_count": 11,
   "metadata": {},
   "outputs": [
    {
     "ename": "PCSEError",
     "evalue": "Cannot override 'SPAN', parameter does not exist.",
     "output_type": "error",
     "traceback": [
      "\u001b[1;31m---------------------------------------------------------------------------\u001b[0m",
      "\u001b[1;31mPCSEError\u001b[0m                                 Traceback (most recent call last)",
      "\u001b[1;32mc:\\Users\\liu283\\GitRepos\\ch1_SA\\notebooks\\SA_IND.ipynb Cell 8\u001b[0m in \u001b[0;36m3\n\u001b[0;32m     <a href='vscode-notebook-cell:/c%3A/Users/liu283/GitRepos/ch1_SA/notebooks/SA_IND.ipynb#X10sZmlsZQ%3D%3D?line=27'>28</a>\u001b[0m \u001b[39m# increase the leave span\u001b[39;00m\n\u001b[0;32m     <a href='vscode-notebook-cell:/c%3A/Users/liu283/GitRepos/ch1_SA/notebooks/SA_IND.ipynb#X10sZmlsZQ%3D%3D?line=28'>29</a>\u001b[0m \u001b[39mfor\u001b[39;00m span \u001b[39min\u001b[39;00m [\u001b[39m35\u001b[39m, \u001b[39m40\u001b[39m, \u001b[39m45\u001b[39m]:\n\u001b[1;32m---> <a href='vscode-notebook-cell:/c%3A/Users/liu283/GitRepos/ch1_SA/notebooks/SA_IND.ipynb#X10sZmlsZQ%3D%3D?line=29'>30</a>\u001b[0m     parameters\u001b[39m.\u001b[39;49mset_override(\u001b[39m\"\u001b[39;49m\u001b[39mSPAN\u001b[39;49m\u001b[39m\"\u001b[39;49m, span)\n\u001b[0;32m     <a href='vscode-notebook-cell:/c%3A/Users/liu283/GitRepos/ch1_SA/notebooks/SA_IND.ipynb#X10sZmlsZQ%3D%3D?line=30'>31</a>\u001b[0m     wofost \u001b[39m=\u001b[39m Wofost72_PP(parameters, wdp, agromanagement)\n\u001b[0;32m     <a href='vscode-notebook-cell:/c%3A/Users/liu283/GitRepos/ch1_SA/notebooks/SA_IND.ipynb#X10sZmlsZQ%3D%3D?line=31'>32</a>\u001b[0m     wofost\u001b[39m.\u001b[39mrun_till_terminate()\n",
      "File \u001b[1;32mc:\\Users\\liu283\\Miniconda3\\envs\\py3_pcse\\lib\\site-packages\\pcse\\base\\parameter_providers.py:140\u001b[0m, in \u001b[0;36mParameterProvider.set_override\u001b[1;34m(self, varname, value, check)\u001b[0m\n\u001b[0;32m    138\u001b[0m     \u001b[39melse\u001b[39;00m:\n\u001b[0;32m    139\u001b[0m         msg \u001b[39m=\u001b[39m \u001b[39m\"\u001b[39m\u001b[39mCannot override \u001b[39m\u001b[39m'\u001b[39m\u001b[39m%s\u001b[39;00m\u001b[39m'\u001b[39m\u001b[39m, parameter does not exist.\u001b[39m\u001b[39m\"\u001b[39m \u001b[39m%\u001b[39m varname\n\u001b[1;32m--> 140\u001b[0m         \u001b[39mraise\u001b[39;00m exc\u001b[39m.\u001b[39mPCSEError(msg)\n\u001b[0;32m    141\u001b[0m \u001b[39melse\u001b[39;00m:\n\u001b[0;32m    142\u001b[0m     \u001b[39mself\u001b[39m\u001b[39m.\u001b[39m_override[varname] \u001b[39m=\u001b[39m value\n",
      "\u001b[1;31mPCSEError\u001b[0m: Cannot override 'SPAN', parameter does not exist."
     ]
    }
   ],
   "source": [
    "# Loop over crops, soils and years\n",
    "agropotato = \"\"\"\n",
    "- {StartDate}:\n",
    "    CropCalendar:\n",
    "        crop_name: 'potato'\n",
    "        variety_name: {Cultivar}\n",
    "        crop_start_date: {StartDate}\n",
    "        crop_start_type: sowing\n",
    "        crop_end_date: {EndDate}\n",
    "        crop_end_type: maturity\n",
    "        max_duration: 300\n",
    "    TimedEvents: null\n",
    "    StateEvents: null\n",
    "\"\"\"\n",
    "cultivars = [\"Fontane\", \"Markies\",\"Premiere\", \"Festien\", \"Innovator\"]\n",
    "\n",
    "res = []\n",
    "# for i \n",
    "for i, inputs in enumerate(zip(StartDate, EndDate)):\n",
    "    # print(i)\n",
    "    # print(inputs)\n",
    "    std, etd = inputs\n",
    "    for c in cultivars:\n",
    "        run_id = \"{StartDate}_{EndDate}\".format(StartDate=std, EndDate = etd)\n",
    "        # print(run_id)\n",
    "        agromanagement = yaml.safe_load(agropotato.format(StartDate=std, EndDate = etd, Cultivar = c))\n",
    "        parameters = ParameterProvider(sitedata=sited, soildata=soild, cropdata=cropd)\n",
    "        # increase the leave span\n",
    "        for span in [35, 40, 45]:\n",
    "            parameters.set_override(\"SPAN\", span)\n",
    "            wofost = Wofost72_PP(parameters, wdp, agromanagement)\n",
    "            wofost.run_till_terminate()\n",
    "            output = wofost.get_output()\n",
    "            df = pd.DataFrame(output).set_index(\"day\")\n",
    "            df['Run_id'] = run_id\n",
    "            df['Cultivar'] = c\n",
    "            df['SPAN'] = span\n",
    "             # append each potential yield simulation results for each cultivar\n",
    "            res.append(df)\n",
    "            print('Cultivar' + c + run_id  + 'SPAN ' + str(span))\n"
   ]
  },
  {
   "cell_type": "code",
   "execution_count": null,
   "metadata": {},
   "outputs": [],
   "source": [
    "df_res = pd.concat(res)"
   ]
  },
  {
   "cell_type": "code",
   "execution_count": null,
   "metadata": {},
   "outputs": [],
   "source": [
    "span_35 = df_res[df_res['SPAN'] == 35]\n",
    "span_40 = df_res[df_res['SPAN'] == 40]\n",
    "span_45 = df_res[df_res['SPAN'] == 45]"
   ]
  },
  {
   "cell_type": "code",
   "execution_count": null,
   "metadata": {},
   "outputs": [],
   "source": [
    "df_res = pd.concat(res)\n",
    "colors = ['k','r','g','b', 'm']\n",
    "fig, axes = plt.subplots(nrows=2, ncols=2, figsize=(12,10))\n",
    "for c, cultivar in zip(colors, cultivars):\n",
    "    for var, axe in zip([\"DVS\", \"TAGP\", \"LAI\", \"TWSO\",\"SM\"], axes.flatten()):\n",
    "        span_35[span_35['Cultivar']==cultivar][var].plot(ax=axe, color=c, label = cultivar)\n",
    "        # plt.scatter(actual_yield['HarvestDate'].iloc[0:3], actual_yield['Yield_t_ha'][0:3]*1000*0.2, color = 'r')\n",
    "        axe.set_title(var)  \n",
    "# Modify the legend position - plt.legend will put legends at the last plot, \n",
    "# fig.legend contains all duplicated legend names for each simulation set \n",
    "# axes is the good one \n",
    "axes[0][0].legend( loc='upper left')\n",
    "fig.autofmt_xdate()\n",
    "plt.suptitle(\"span_35\")\n"
   ]
  },
  {
   "cell_type": "code",
   "execution_count": null,
   "metadata": {},
   "outputs": [],
   "source": [
    "colors = ['k','r','g','b', 'm']\n",
    "fig, axes = plt.subplots(nrows=2, ncols=2, figsize=(12,10))\n",
    "for c, cultivar in zip(colors, cultivars):\n",
    "    for var, axe in zip([\"DVS\", \"TAGP\", \"LAI\", \"TWSO\",\"SM\"], axes.flatten()):\n",
    "        span_40[span_40['Cultivar']==cultivar][var].plot(ax=axe, color=c, label = cultivar)\n",
    "        # plt.scatter(actual_yield['HarvestDate'].iloc[0:3], actual_yield['Yield_t_ha'][0:3]*1000*0.2, color = 'r')\n",
    "        axe.set_title(var)  \n",
    "# Modify the legend position - plt.legend will put legends at the last plot, \n",
    "# fig.legend contains all duplicated legend names for each simulation set \n",
    "# axes is the good one \n",
    "axes[0][0].legend( loc='upper left')\n",
    "fig.autofmt_xdate()\n",
    "plt.suptitle(\"span_40\")"
   ]
  },
  {
   "cell_type": "code",
   "execution_count": null,
   "metadata": {},
   "outputs": [],
   "source": [
    "colors = ['k','r','g','b', 'm']\n",
    "fig, axes = plt.subplots(nrows=2, ncols=2, figsize=(12,10))\n",
    "for c, cultivar in zip(colors, cultivars):\n",
    "    for var, axe in zip([\"DVS\", \"TAGP\", \"LAI\", \"TWSO\",\"SM\"], axes.flatten()):\n",
    "        span_45[span_45['Cultivar']==cultivar][var].plot(ax=axe, color=c, label = cultivar)\n",
    "        # plt.scatter(actual_yield['HarvestDate'].iloc[0:3], actual_yield['Yield_t_ha'][0:3]*1000*0.2, color = 'r')\n",
    "        axe.set_title(var)  \n",
    "# Modify the legend position - plt.legend will put legends at the last plot, \n",
    "# fig.legend contains all duplicated legend names for each simulation set \n",
    "# axes is the good one \n",
    "axes[0][0].legend( loc='upper left')\n",
    "fig.autofmt_xdate()\n",
    "plt.suptitle(\"span_45\")"
   ]
  },
  {
   "cell_type": "markdown",
   "metadata": {},
   "source": [
    "### Next step \n",
    "1. choose a cultivar - which one does not matter I think since we are not after the accuracy but the variation over the seasons. \n",
    "2. demonstrate the relationship between parameter values and output? LAI or twso? "
   ]
  },
  {
   "cell_type": "markdown",
   "metadata": {},
   "source": [
    "$$effect size = \\delta{Y}/\\delta{P}$$"
   ]
  }
 ],
 "metadata": {
  "kernelspec": {
   "display_name": "py3_pcse",
   "language": "python",
   "name": "python3"
  },
  "language_info": {
   "codemirror_mode": {
    "name": "ipython",
    "version": 3
   },
   "file_extension": ".py",
   "mimetype": "text/x-python",
   "name": "python",
   "nbconvert_exporter": "python",
   "pygments_lexer": "ipython3",
   "version": "3.8.15"
  },
  "orig_nbformat": 4
 },
 "nbformat": 4,
 "nbformat_minor": 2
}
