{
 "cells": [
  {
   "cell_type": "code",
   "execution_count": null,
   "metadata": {},
   "outputs": [],
   "source": [
    "%matplotlib inline\n",
    "import os, sys\n",
    "import datetime as dt \n",
    "import yaml\n",
    "import pandas as pd\n",
    "import pcse\n",
    "import pickle\n",
    "from pcse.models import Wofost72_PP\n",
    "from pcse.base import ParameterProvider\n",
    "from pcse.exceptions import WeatherDataProviderError\n",
    "from pcse.fileinput import ExcelWeatherDataProvider\n",
    "import matplotlib.pyplot as plt\n",
    "\n",
    "\n",
    "print(\"This notebook was built with:\")\n",
    "print(\"python version: %s \" % sys.version)\n",
    "print(\"PCSE version: %s\" %  pcse.__version__)\n",
    "\n",
    "# setting font and size \n",
    "font = {'family' : 'normal',\n",
    "        'weight' : 'bold',\n",
    "        'size'   : 16}\n",
    "# change font\n",
    "plt.rc('font', **font)"
   ]
  },
  {
   "cell_type": "code",
   "execution_count": null,
   "metadata": {},
   "outputs": [],
   "source": [
    "# IND_10yrs = pd.DataFrame(wdp.export())\n",
    "# IND_10yrs\n",
    "# firstY = IND_10yrs[(IND_10yrs['DAY'] > dt.date(2013, 11, 1))& (IND_10yrs['DAY'] < dt.date(2014, 3, 1))]\n",
    "# OUTPUT TO THE OUTSIDE FOR PROCESS\n",
    "# firstY.to_excel('firstY_ind.xlsx')"
   ]
  },
  {
   "cell_type": "code",
   "execution_count": null,
   "metadata": {},
   "outputs": [],
   "source": [
    "# prepared all artificial weather data in different periods\n",
    "# rule is increase the TMAX by 5 degree in six different period \n",
    "# the interval for each period is 20 days \n",
    "import glob\n",
    "wdps = []\n",
    "\n",
    "file_paths = glob.glob(f\"Period*.xlsx\")\n",
    "for file_path in file_paths:\n",
    "    df = ExcelWeatherDataProvider(file_path)\n",
    "    wdps.append(df)\n",
    "\n",
    "\n"
   ]
  },
  {
   "cell_type": "code",
   "execution_count": null,
   "metadata": {},
   "outputs": [],
   "source": [
    "# load two data import functions from the pcse.fileinput class\n",
    "from pcse.fileinput import YAMLCropDataProvider, CABOFileReader\n",
    "# load the available crop list  \n",
    "cropd = YAMLCropDataProvider(fpath='../data',\n",
    "                              force_reload=True)  \n",
    "# load the soil information\n",
    "soild = CABOFileReader('../data/ec3 sandyloam.soil')\n",
    "# load one data import function from the pcse.util class\n",
    "from pcse.util import WOFOST72SiteDataProvider\n",
    "# define the site initial condiations \n",
    "# WAV is the initial soil water content = 0; CO2 is the level of CO2 in the atmosphere = 360 ppm\n",
    "sited = WOFOST72SiteDataProvider(WAV=10, CO2=360)\n",
    "print(sited)\n",
    "# help(WOFOST72SiteDataProvider)\n"
   ]
  },
  {
   "cell_type": "code",
   "execution_count": null,
   "metadata": {},
   "outputs": [],
   "source": [
    "# Loop over crops, soils and years\n",
    "agropotato = \"\"\"\n",
    "- 2013-11-02:\n",
    "    CropCalendar:\n",
    "        crop_name: potato\n",
    "        variety_name: {Cultivar}\n",
    "        crop_start_date: 2013-11-02\n",
    "        crop_start_type: sowing\n",
    "        crop_end_date: 2014-02-28\n",
    "        crop_end_type: harvest\n",
    "        max_duration: 300\n",
    "    TimedEvents: null\n",
    "    StateEvents: null\n",
    "\"\"\"\n",
    "cultivars = [\n",
    "    \"Fontane\", \n",
    "    \"Markies\",\n",
    "    \"Premiere\",\n",
    "    \"Festien\", \n",
    "    \"Innovator\"]"
   ]
  },
  {
   "cell_type": "code",
   "execution_count": null,
   "metadata": {},
   "outputs": [],
   "source": [
    "res = []\n",
    "for index, wdp in enumerate(wdps):\n",
    "    for c in cultivars:\n",
    "        parameters = ParameterProvider(sitedata=sited, soildata=soild, cropdata=cropd)\n",
    "        agromanagement = yaml.safe_load(agropotato.format(Cultivar=c))\n",
    "        wofost = Wofost72_PP(parameters, wdp, agromanagement)\n",
    "        wofost.run_till_terminate()\n",
    "        output = wofost.get_output()\n",
    "        df = pd.DataFrame(output)\n",
    "        df['cultivar'] = c\n",
    "        df['period'] = f'Period{index}'\n",
    "        res.append(df)"
   ]
  },
  {
   "cell_type": "code",
   "execution_count": null,
   "metadata": {},
   "outputs": [],
   "source": [
    "all_data = pd.concat(res)\n",
    "results = pd.concat(res)\n",
    "results['day'] = pd.to_datetime(results['day'])\n",
    "results.set_index('day', inplace=True)\n"
   ]
  },
  {
   "cell_type": "code",
   "execution_count": null,
   "metadata": {},
   "outputs": [],
   "source": [
    "PeriodCate = ['Period' + str(i) for i in range(0,8)]"
   ]
  },
  {
   "cell_type": "code",
   "execution_count": null,
   "metadata": {},
   "outputs": [],
   "source": [
    "# Create subplots\n",
    "fig, axes = plt.subplots(3, 2, figsize=(10, 15))\n",
    "\n",
    "for ax, cultivar in zip(axes.flatten(), cultivars):\n",
    "    df_period = results[results['cultivar'] == cultivar]\n",
    "    for period in PeriodCate:\n",
    "        df_cultivar = df_period[df_period['period'] == period]\n",
    "        ax.plot(df_cultivar['LAI'].reset_index(drop=True), label=period)\n",
    "    # ax.legend()\n",
    "    ax.set_title(f\"Cultivar {cultivar}\")\n",
    "axes[0][0].legend(['Normal', '1-20', '21-40','41-60','61-80','81-100','101-119'] ,loc='upper left')\n",
    "fig.suptitle('The effect of manually adding 5 degree to TMAX on LAI over 20 days interval')\n",
    "\n",
    "plt.tight_layout()\n",
    "plt.show()"
   ]
  },
  {
   "cell_type": "code",
   "execution_count": null,
   "metadata": {},
   "outputs": [],
   "source": [
    "# Create subplots\n",
    "fig, axes = plt.subplots(3, 2, figsize=(10, 15))\n",
    "\n",
    "for ax, cultivar in zip(axes.flatten(), cultivars):\n",
    "    df_period = results[results['cultivar'] == cultivar]\n",
    "    for period in PeriodCate:\n",
    "        df_cultivar = df_period[df_period['period'] == period]\n",
    "        ax.plot(df_cultivar['TWSO'].reset_index(drop=True), label=period)\n",
    "    # ax.legend()\n",
    "    ax.set_title(f\"Cultivar {cultivar}\")\n",
    "axes[0][0].legend(['Normal', '1-20', '21-40','41-60','61-80','81-100','101-119'] ,loc='upper left')\n",
    "fig.suptitle('The effect of manually adding 5 degree to TMAX on TWSO over 20 days interval')\n",
    "\n",
    "plt.tight_layout()\n",
    "plt.show()"
   ]
  },
  {
   "cell_type": "code",
   "execution_count": null,
   "metadata": {},
   "outputs": [],
   "source": [
    "6.5/0.2"
   ]
  }
 ],
 "metadata": {
  "kernelspec": {
   "display_name": "py3_pcse",
   "language": "python",
   "name": "python3"
  },
  "language_info": {
   "codemirror_mode": {
    "name": "ipython",
    "version": 3
   },
   "file_extension": ".py",
   "mimetype": "text/x-python",
   "name": "python",
   "nbconvert_exporter": "python",
   "pygments_lexer": "ipython3",
   "version": "3.8.15"
  },
  "orig_nbformat": 4
 },
 "nbformat": 4,
 "nbformat_minor": 2
}
