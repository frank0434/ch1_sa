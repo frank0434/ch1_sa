{
 "cells": [
  {
   "cell_type": "code",
   "execution_count": null,
   "metadata": {},
   "outputs": [],
   "source": [
    "%matplotlib inline\n",
    "import os, sys\n",
    "import datetime as dt \n",
    "import yaml\n",
    "import pandas as pd\n",
    "import pcse\n",
    "import pickle\n",
    "from pcse.models import Wofost72_PP\n",
    "from pcse.base import ParameterProvider\n",
    "from pcse.exceptions import WeatherDataProviderError\n",
    "from pcse.fileinput import ExcelWeatherDataProvider\n",
    "import matplotlib.pyplot as plt\n",
    "\n",
    "\n",
    "print(\"This notebook was built with:\")\n",
    "print(\"python version: %s \" % sys.version)\n",
    "print(\"PCSE version: %s\" %  pcse.__version__)\n",
    "\n",
    "# setting font and size \n",
    "font = {'family' : 'normal',\n",
    "        'weight' : 'bold',\n",
    "        'size'   : 16}\n",
    "# change font\n",
    "plt.rc('font', **font)"
   ]
  },
  {
   "cell_type": "code",
   "execution_count": null,
   "metadata": {},
   "outputs": [],
   "source": [
    "# IND_10yrs = pd.DataFrame(wdp.export())\n",
    "# IND_10yrs\n",
    "# firstY = IND_10yrs[(IND_10yrs['DAY'] > dt.date(2013, 11, 1))& (IND_10yrs['DAY'] < dt.date(2014, 3, 1))]\n",
    "# OUTPUT TO THE OUTSIDE FOR PROCESS\n",
    "# firstY.to_excel('firstY_ind.xlsx')"
   ]
  },
  {
   "cell_type": "code",
   "execution_count": null,
   "metadata": {},
   "outputs": [],
   "source": [
    "# prepared all artificial weather data in different periods\n",
    "# rule is increase the TMAX by 5 degree in six different period \n",
    "# the interval for each period is 20 days \n",
    "\n",
    "import glob\n",
    "\n",
    "# Use glob to find files that match the pattern\n",
    "file_paths = glob.glob(f\"Period*.xlsx\")\n",
    "# Read each Excel file and assign it to a unique variable name\n",
    "for i, file_path in enumerate(file_paths):\n",
    "    print(file_path)\n",
    "    # Read the Excel file\n",
    "    df = ExcelWeatherDataProvider(file_path)\n",
    "    \n",
    "    # Create a variable name based on a pattern (e.g., df1, df2, ...)\n",
    "    variable_name = f'wdp{i + 1}'\n",
    "    \n",
    "    # Assign the dataframe to the variable name in the current environment\n",
    "    globals()[variable_name] = df\n",
    "\n"
   ]
  },
  {
   "cell_type": "code",
   "execution_count": null,
   "metadata": {},
   "outputs": [],
   "source": [
    "# load two data import functions from the pcse.fileinput class\n",
    "from pcse.fileinput import YAMLCropDataProvider, CABOFileReader\n",
    "# load the available crop list  \n",
    "cropd = YAMLCropDataProvider(fpath='../data',\n",
    "                              force_reload=True)  \n",
    "# load the soil information\n",
    "soild = CABOFileReader('../data/ec3 sandyloam.soil')\n",
    "# load one data import function from the pcse.util class\n",
    "from pcse.util import WOFOST72SiteDataProvider\n",
    "# define the site initial condiations \n",
    "# WAV is the initial soil water content = 0; CO2 is the level of CO2 in the atmosphere = 360 ppm\n",
    "sited = WOFOST72SiteDataProvider(WAV=10, CO2=360)\n",
    "print(sited)\n",
    "# help(WOFOST72SiteDataProvider)\n"
   ]
  },
  {
   "cell_type": "code",
   "execution_count": null,
   "metadata": {},
   "outputs": [],
   "source": [
    "# Loop over crops, soils and years\n",
    "agropotato = \"\"\"\n",
    "- 2013-11-02:\n",
    "    CropCalendar:\n",
    "        crop_name: potato\n",
    "        variety_name: {Cultivar}\n",
    "        crop_start_date: 2013-11-02\n",
    "        crop_start_type: sowing\n",
    "        crop_end_date: 2014-02-28\n",
    "        crop_end_type: harvest\n",
    "        max_duration: 300\n",
    "    TimedEvents: null\n",
    "    StateEvents: null\n",
    "\"\"\"\n",
    "cultivars = [\n",
    "    \"Fontane\", \n",
    "    \"Markies\",\n",
    "    \"Premiere\",\n",
    "    \"Festien\", \n",
    "    \"Innovator\"]"
   ]
  },
  {
   "cell_type": "code",
   "execution_count": null,
   "metadata": {},
   "outputs": [],
   "source": [
    "res = []\n",
    "\n",
    "for c in cultivars:\n",
    "    parameters = ParameterProvider(sitedata=sited, soildata=soild, cropdata=cropd)\n",
    "    agromanagement = yaml.safe_load(agropotato.format(Cultivar = c))\n",
    "    wofost =  Wofost72_PP(parameters, wdp1, agromanagement)\n",
    "    wofost.run_till_terminate()\n",
    "    output = wofost.get_output()\n",
    "    df0 = pd.DataFrame(output)\n",
    "    df0['cultivar'] = c\n",
    "    res.append(df0)\n",
    "period0 = pd.concat(res)\n",
    "\n",
    "res1 = []\n",
    "\n",
    "for c in cultivars:\n",
    "    parameters = ParameterProvider(sitedata=sited, soildata=soild, cropdata=cropd)\n",
    "    agromanagement = yaml.safe_load(agropotato.format(Cultivar = c))\n",
    "    wofost =  Wofost72_PP(parameters, wdp2, agromanagement)\n",
    "    wofost.run_till_terminate()\n",
    "    output = wofost.get_output()\n",
    "    df1 = pd.DataFrame(output)\n",
    "    df1['cultivar'] = c\n",
    "    res1.append(df1)\n",
    "period1 = pd.concat(res1)\n",
    "\n",
    "res2 = []\n",
    "\n",
    "for c in cultivars:\n",
    "    parameters = ParameterProvider(sitedata=sited, soildata=soild, cropdata=cropd)\n",
    "    agromanagement = yaml.safe_load(agropotato.format(Cultivar = c))\n",
    "    wofost =  Wofost72_PP(parameters, wdp3, agromanagement)\n",
    "    wofost.run_till_terminate()\n",
    "    output = wofost.get_output()\n",
    "    df1 = pd.DataFrame(output)\n",
    "    df1['cultivar'] = c\n",
    "    res2.append(df1)\n",
    "period2 = pd.concat(res2)\n",
    "res3 = []\n",
    "\n",
    "for c in cultivars:\n",
    "    parameters = ParameterProvider(sitedata=sited, soildata=soild, cropdata=cropd)\n",
    "    agromanagement = yaml.safe_load(agropotato.format(Cultivar = c))\n",
    "    wofost =  Wofost72_PP(parameters, wdp4, agromanagement)\n",
    "    wofost.run_till_terminate()\n",
    "    output = wofost.get_output()\n",
    "    df1 = pd.DataFrame(output)\n",
    "    df1['cultivar'] = c\n",
    "    res3.append(df1)\n",
    "period3 = pd.concat(res3)\n",
    "res6 = []\n",
    "\n",
    "for c in cultivars:\n",
    "    parameters = ParameterProvider(sitedata=sited, soildata=soild, cropdata=cropd)\n",
    "    agromanagement = yaml.safe_load(agropotato.format(Cultivar = c))\n",
    "    wofost =  Wofost72_PP(parameters, wdp7, agromanagement)\n",
    "    wofost.run_till_terminate()\n",
    "    output = wofost.get_output()\n",
    "    df1 = pd.DataFrame(output)\n",
    "    df1['cultivar'] = c\n",
    "    res6.append(df1)\n",
    "period6 = pd.concat(res6)\n"
   ]
  },
  {
   "cell_type": "code",
   "execution_count": null,
   "metadata": {},
   "outputs": [],
   "source": [
    "period0['day'] = pd.to_datetime(period0['day'])\n",
    "period0.set_index('day', inplace = True)\n",
    "period1['day'] = pd.to_datetime(period1['day'])\n",
    "period1.set_index('day', inplace = True)\n",
    "period2['day'] = pd.to_datetime(period2['day'])\n",
    "period2.set_index('day', inplace = True)\n",
    "period3['day'] = pd.to_datetime(period3['day'])\n",
    "period3.set_index('day', inplace = True)\n",
    "period6['day'] = pd.to_datetime(period6['day'])\n",
    "period6.set_index('day', inplace = True)"
   ]
  },
  {
   "cell_type": "code",
   "execution_count": null,
   "metadata": {},
   "outputs": [],
   "source": [
    "period0"
   ]
  },
  {
   "cell_type": "code",
   "execution_count": null,
   "metadata": {},
   "outputs": [],
   "source": [
    "\n",
    "plt.figure(figsize=(8, 6))  # Adjust the figure size if needed\n",
    "plt.plot(period0[period0['cultivar'] == 'Fontane'].index, period0[period0['cultivar'] == 'Fontane']['LAI'], label='NORMAL')\n",
    "plt.plot(period1[period1['cultivar'] == 'Fontane'].index, period1[period1['cultivar'] == 'Fontane']['LAI'], label='PERIOD1')\n",
    "plt.plot(period2[period2['cultivar'] == 'Fontane'].index, period2[period2['cultivar'] == 'Fontane']['LAI'], label='PERIOD2')\n",
    "plt.plot(period3[period6['cultivar'] == 'Fontane'].index, period3[period3['cultivar'] == 'Fontane']['LAI'], label='PERIOD3')\n",
    "plt.plot(period6[period6['cultivar'] == 'Fontane'].index, period6[period6['cultivar'] == 'Fontane']['LAI'], label='PERIOD6')\n",
    "\n",
    "# Add labels and legend\n",
    "plt.xlabel('X-axis')\n",
    "plt.ylabel('Y-axis')\n",
    "# plt.title('Multiple Series Plot')\n",
    "plt.legend()\n",
    "\n",
    "# Show the plot\n",
    "plt.grid(True)\n",
    "plt.show()"
   ]
  },
  {
   "cell_type": "code",
   "execution_count": null,
   "metadata": {},
   "outputs": [],
   "source": []
  },
  {
   "cell_type": "code",
   "execution_count": null,
   "metadata": {},
   "outputs": [],
   "source": [
    "\n",
    "fig, ax = plt.subplots()\n",
    "# ax2 = ax.twinx()\n",
    "\n",
    "df_fontane_wide2.iloc[0:200, :].plot( y=['TBchanges_2'], ax = ax)\n",
    "df_fontane_wide.iloc[0:200, :].plot( y=['changes_10'], ls = '--', ax = ax)\n",
    "fig.autofmt_xdate()\n",
    "plt.title('LAI Sensitivity to TBASE and SPAN changes over time for 1 season')\n",
    "plt.show()"
   ]
  },
  {
   "cell_type": "markdown",
   "metadata": {},
   "source": [
    "quick thoughts:   \n",
    "1. both base temperature and span have effects on LAI   \n",
    "2. LAI is not sensitive to both parameters until late in the season under indian condtions. \n",
    "3. TBASE came in earlier than SPAN but SPAN wears off later   \n",
    "4. TBASE seems more important than the SPAN \n",
    "5. WHY THERE ARE UP AND DOWNS IN THE TBASE changes? \n",
    "\n"
   ]
  },
  {
   "cell_type": "code",
   "execution_count": null,
   "metadata": {},
   "outputs": [],
   "source": [
    "# what about yield \n",
    "TBASE = df_res2[(df_res2['Cultivar'] == 'Fontane')&(df_res2['TWSO'] != 0 )].loc[:, ['TWSO','TBASE']]\n",
    "SPAN = df_res[(df_res['Cultivar'] == 'Fontane')&(df_res['TWSO'] != 0 )].loc[:, ['TWSO','SPAN']]"
   ]
  },
  {
   "cell_type": "code",
   "execution_count": null,
   "metadata": {},
   "outputs": [],
   "source": [
    "TBASE['year'], TBASE['m'], TBASE['d'] = TBASE.index.year, TBASE.index.month, TBASE.index.day\n",
    "TB_yield = TBASE[(TBASE['m'] == 2) & (TBASE['d'] == 28)]\n",
    "SPAN['year'], SPAN['m'], SPAN['d'] = SPAN.index.year, SPAN.index.month, SPAN.index.day\n",
    "SPAN_yield = SPAN[(SPAN['m'] == 2) & (SPAN['d'] == 28)]\n"
   ]
  },
  {
   "cell_type": "code",
   "execution_count": null,
   "metadata": {},
   "outputs": [],
   "source": [
    "# Get unique category values\n",
    "categories = TB_yield['TBASE'].unique()\n",
    "\n",
    "# Create a figure and axis\n",
    "fig, ax = plt.subplots()\n",
    "\n",
    "# Plot each category with a different color\n",
    "for category in categories:\n",
    "    category_data = TB_yield[TB_yield['TBASE'] == category]\n",
    "    ax.scatter(category_data.index, category_data['TWSO'], label=category)\n",
    "\n",
    "# Add labels and legend\n",
    "plt.xlabel('Date')\n",
    "plt.ylabel('TBASE')\n",
    "plt.legend(title='TBASE')\n",
    "\n",
    "# Show the plot\n",
    "plt.show()"
   ]
  },
  {
   "cell_type": "code",
   "execution_count": null,
   "metadata": {},
   "outputs": [],
   "source": [
    "# Get unique category values\n",
    "categories = SPAN_yield['SPAN'].unique()\n",
    "\n",
    "# Create a figure and axis\n",
    "fig, ax = plt.subplots()\n",
    "\n",
    "# Plot each category with a different color\n",
    "for category in categories:\n",
    "    category_data = SPAN_yield[SPAN_yield['SPAN'] == category]\n",
    "    ax.scatter(category_data.index, category_data['TWSO'], label=category)\n",
    "\n",
    "# Add labels and legend\n",
    "plt.xlabel('Date')\n",
    "plt.ylabel('Dry matter content kg ha-1')\n",
    "plt.legend(title='SPAN')\n",
    "\n",
    "# Show the plot\n",
    "plt.show()"
   ]
  },
  {
   "cell_type": "markdown",
   "metadata": {},
   "source": [
    "# BUT WHICH ONE IS MORE INFLUENTIAL?  "
   ]
  },
  {
   "cell_type": "code",
   "execution_count": null,
   "metadata": {},
   "outputs": [],
   "source": [
    "TB_yield.reset_index().merge(SPAN_yield.reset_index(),left_on=['day', 'year', 'm','d'], right_on=['day', 'year', 'm','d'])\n",
    "# TB_yield\n",
    "merged = TB_yield.pivot(columns = 'TBASE', values = \"TWSO\").merge(SPAN_yield.pivot(columns = 'SPAN', values = \"TWSO\"), left_index=True, right_index=True)\n",
    "merged['TB_changes'] = (merged[5.0] -merged[3.0])/2\n",
    "merged['SPAN_changes'] = (merged[45.0] -merged[35.0])/10\n",
    "merged\n",
    " "
   ]
  },
  {
   "cell_type": "code",
   "execution_count": null,
   "metadata": {},
   "outputs": [],
   "source": [
    "# Create a figure and axis\n",
    "fig, ax = plt.subplots()\n",
    "\n",
    "# Plot each category with a different color\n",
    "for col in merged.columns[6:8]:\n",
    "    ax.scatter(merged.index, merged[col], label=col)\n",
    "\n",
    "# Add labels and legend\n",
    "plt.xlabel('Date')\n",
    "plt.ylabel('Dry matter content kg ha-1')\n",
    "plt.legend(title='changes per unit')\n",
    "plt.title('absolute difference of per unit of parameter value change over time')\n",
    "# Show the plot\n",
    "plt.show()\n",
    "merged.columns"
   ]
  },
  {
   "cell_type": "code",
   "execution_count": null,
   "metadata": {},
   "outputs": [],
   "source": [
    "# what happened at year 2019 and 2022\n",
    "weather =pd.DataFrame(  wdp.export())\n",
    "weather.DAY = pd.to_datetime(weather.DAY)\n",
    "weather.set_index('DAY', inplace = True)\n",
    "weather['year'], weather['m'], weather['d'] = weather.index.year, weather.index.month, weather.index.day"
   ]
  },
  {
   "cell_type": "code",
   "execution_count": null,
   "metadata": {},
   "outputs": [],
   "source": [
    "weather['TMAX'].plot()\n",
    "weather['TMIN'].plot()\n"
   ]
  },
  {
   "cell_type": "markdown",
   "metadata": {},
   "source": [
    "### Next step \n",
    "1. choose a cultivar - which one does not matter I think since we are not after the accuracy but the variation over the seasons. \n",
    "2. demonstrate the relationship between parameter values and output? LAI or twso? "
   ]
  },
  {
   "cell_type": "markdown",
   "metadata": {},
   "source": [
    "$$sX(t) = ∂Y(t)/∂X(t)$$"
   ]
  },
  {
   "cell_type": "code",
   "execution_count": null,
   "metadata": {},
   "outputs": [],
   "source": [
    "import sympy as sp"
   ]
  },
  {
   "cell_type": "code",
   "execution_count": null,
   "metadata": {},
   "outputs": [],
   "source": [
    "df_fontane2[0:1]"
   ]
  },
  {
   "cell_type": "code",
   "execution_count": null,
   "metadata": {},
   "outputs": [],
   "source": [
    "dY_dX3 = sp.diff(df_fontane2.loc[df_fontane2['TBASE'] == 3, 'LAI'],3)\n",
    "dY_dX4 = sp.diff(df_fontane2.loc[df_fontane2['TBASE'] == 4, 'LAI'],4)\n",
    "dY_dX5 = sp.diff(df_fontane2.loc[df_fontane2['TBASE'] == 5, 'LAI'],5)\n",
    "\n",
    "# Create a figure and axis\n",
    "plt.figure(figsize=(8, 6))  # Adjust the figure size if needed\n",
    "plt.plot(dY_dX3[dY_dX3 > 0].index, dY_dX3[dY_dX3 > 0], label='3')\n",
    "plt.plot(dY_dX4[dY_dX4 > 0].index, dY_dX4[dY_dX4 > 0], label='4')\n",
    "plt.plot(dY_dX5[dY_dX5 > 0].index, dY_dX5[dY_dX5 > 0], label='5')\n",
    "\n",
    "# Add labels and legend\n",
    "plt.xlabel('X-axis')\n",
    "plt.ylabel('Y-axis')\n",
    "# plt.title('Multiple Series Plot')\n",
    "plt.legend()\n",
    "\n",
    "# Show the plot\n",
    "plt.grid(True)\n",
    "plt.show()\n",
    "# dY_dX[dY_dX > 0].plot()\n",
    "\n"
   ]
  },
  {
   "cell_type": "code",
   "execution_count": null,
   "metadata": {},
   "outputs": [],
   "source": [
    "# Create a figure and axis\n",
    "plt.figure(figsize=(10, 6))  # Adjust the figure size if needed\n",
    "plt.plot(dY_dX3[0:100][dY_dX3 > 0].index, dY_dX3[0:100][dY_dX3 > 0], label='3')\n",
    "plt.plot(dY_dX4[0:100][dY_dX4 > 0].index, dY_dX4[0:100][dY_dX4 > 0], label='4')\n",
    "plt.plot(dY_dX5[0:100][dY_dX5 > 0].index, dY_dX5[0:100][dY_dX5 > 0], label='5')\n",
    "\n",
    "# Add labels and legend\n",
    "plt.xlabel('Date')\n",
    "plt.ylabel('rate of changes ')\n",
    "# plt.title('Multiple Series Plot')\n",
    "plt.legend()\n",
    "\n",
    "# Show the plot\n",
    "plt.grid(True)\n",
    "plt.show()"
   ]
  },
  {
   "cell_type": "code",
   "execution_count": null,
   "metadata": {},
   "outputs": [],
   "source": [
    "dY_dX35 = sp.diff(df_fontane.loc[df_fontane['SPAN'] == 35, 'LAI'],35)\n",
    "dY_dX40 = sp.diff(df_fontane.loc[df_fontane['SPAN'] == 40, 'LAI'],40)\n",
    "dY_dX45 = sp.diff(df_fontane.loc[df_fontane['SPAN'] == 45, 'LAI'],45)\n",
    "\n",
    "# Create a figure and axis\n",
    "plt.figure(figsize=(8, 6))  # Adjust the figure size if needed\n",
    "plt.plot(dY_dX35[dY_dX35 > 0].index, dY_dX35[dY_dX35 > 0], label='SPAN_35')\n",
    "plt.plot(dY_dX40[dY_dX40 > 0].index, dY_dX40[dY_dX40 > 0], label='SPAN_40')\n",
    "plt.plot(dY_dX45[dY_dX45 > 0].index, dY_dX45[dY_dX45 > 0], label='SPAN_45')\n",
    "\n",
    "# Add labels and legend\n",
    "plt.xlabel('Date')\n",
    "plt.ylabel('Rate of changes ')\n",
    "# plt.title('Multiple Series Plot')\n",
    "plt.legend()\n",
    "\n",
    "# Show the plot\n",
    "plt.grid(True)\n",
    "plt.show()\n"
   ]
  },
  {
   "cell_type": "code",
   "execution_count": null,
   "metadata": {},
   "outputs": [],
   "source": [
    "dY_dX35 = sp.diff(df_fontane.loc[df_fontane['SPAN'] == 35, 'LAI'],35)\n",
    "dY_dX40 = sp.diff(df_fontane.loc[df_fontane['SPAN'] == 40, 'LAI'],40)\n",
    "dY_dX45 = sp.diff(df_fontane.loc[df_fontane['SPAN'] == 45, 'LAI'],45)\n",
    "\n",
    "# Create a figure and axis\n",
    "plt.figure(figsize=(10, 6))  # Adjust the figure size if needed\n",
    "plt.plot(dY_dX35[0:100][dY_dX35 > 0].index, dY_dX35[0:100][dY_dX35 > 0], label='SPAN_35')\n",
    "plt.plot(dY_dX40[0:100][dY_dX40 > 0].index, dY_dX40[0:100][dY_dX40 > 0], label='SPAN_40')\n",
    "plt.plot(dY_dX45[0:100][dY_dX45 > 0].index, dY_dX45[0:100][dY_dX45 > 0], label='SPAN_45')\n",
    "plt.plot(dY_dX3[0:100][dY_dX3 > 0].index, dY_dX3[0:100][dY_dX3 > 0], label='3')\n",
    "plt.plot(dY_dX4[0:100][dY_dX4 > 0].index, dY_dX4[0:100][dY_dX4 > 0], label='4')\n",
    "plt.plot(dY_dX5[0:100][dY_dX5 > 0].index, dY_dX5[0:100][dY_dX5 > 0], label='5')\n",
    "\n",
    "# Add labels and legend\n",
    "plt.xlabel('Date')\n",
    "plt.ylabel('Rate of changes ')\n",
    "# plt.title('Multiple Series Plot')\n",
    "plt.legend()\n",
    "plt.xticks(rotation=45)\n",
    "# plt.autofmt_xdate()\n",
    "# Show the plot\n",
    "plt.grid(True)\n",
    "plt.show()"
   ]
  },
  {
   "cell_type": "code",
   "execution_count": null,
   "metadata": {},
   "outputs": [],
   "source": [
    "# Create a figure and axis\n",
    "plt.figure(figsize=(10, 6))  # Adjust the figure size if needed\n",
    "plt.plot(dY_dX35[0:100][dY_dX35 > 0].index, dY_dX35[0:100][dY_dX35 > 0], label='SPAN_35')\n",
    "plt.plot(dY_dX40[0:100][dY_dX40 > 0].index, dY_dX40[0:100][dY_dX40 > 0], label='SPAN_40')\n",
    "plt.plot(dY_dX45[0:100][dY_dX45 > 0].index, dY_dX45[0:100][dY_dX45 > 0], label='SPAN_45')\n",
    "\n",
    "# Add labels and legend\n",
    "plt.xlabel('Date')\n",
    "plt.ylabel('Rate of changes ')\n",
    "# plt.title('Multiple Series Plot')\n",
    "plt.legend()\n",
    "# plt.autofmt_xdate()\n",
    "# Show the plot\n",
    "plt.grid(True)\n",
    "plt.show()"
   ]
  },
  {
   "cell_type": "code",
   "execution_count": null,
   "metadata": {},
   "outputs": [],
   "source": [
    "# Evaluate the derivative at a specific time t\n",
    "t_value = 4  # Replace with the desired time value\n",
    "sensitivity = dY_dX.subs(dY_dX.index, t_value)\n",
    "\n",
    "# Print or use the sensitivity value\n",
    "print(\"Sensitivity at time\", t_value, \":\", sensitivity)"
   ]
  },
  {
   "cell_type": "code",
   "execution_count": null,
   "metadata": {},
   "outputs": [],
   "source": [
    "t, X, Y = sp.symbols('t X Y')\n"
   ]
  },
  {
   "cell_type": "code",
   "execution_count": null,
   "metadata": {},
   "outputs": [],
   "source": [
    "Y_function = sp.sin(X*t)  # You can replace this with your actual function\n",
    "dY_dX = sp.diff(Y_function, X)\n",
    "dY_dX\n",
    "t_value = 2.0  # Replace with the desired time value\n",
    "sensitivity = dY_dX.subs(t, t_value)\n",
    "print(\"Sensitivity at time\", t_value, \":\", sensitivity)\n"
   ]
  },
  {
   "cell_type": "code",
   "execution_count": null,
   "metadata": {},
   "outputs": [],
   "source": [
    "dY_dX"
   ]
  }
 ],
 "metadata": {
  "kernelspec": {
   "display_name": "py3_pcse",
   "language": "python",
   "name": "python3"
  },
  "language_info": {
   "codemirror_mode": {
    "name": "ipython",
    "version": 3
   },
   "file_extension": ".py",
   "mimetype": "text/x-python",
   "name": "python",
   "nbconvert_exporter": "python",
   "pygments_lexer": "ipython3",
   "version": "3.8.15"
  },
  "orig_nbformat": 4
 },
 "nbformat": 4,
 "nbformat_minor": 2
}
